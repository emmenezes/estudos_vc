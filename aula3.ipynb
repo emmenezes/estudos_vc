{
 "cells": [
  {
   "cell_type": "code",
   "execution_count": 2,
   "metadata": {},
   "outputs": [],
   "source": [
    "import numpy as np\n",
    "import cv2"
   ]
  },
  {
   "cell_type": "markdown",
   "metadata": {},
   "source": [
    "Explicar argumentos de cada função"
   ]
  },
  {
   "cell_type": "code",
   "execution_count": 6,
   "metadata": {},
   "outputs": [],
   "source": [
    "img = cv2.imread('imgs/watch.jpg', cv2.IMREAD_COLOR)\n",
    "\n",
    "cv2.line(img, (0,0), (150,150), (0,255,0), 15)\n",
    "cv2.rectangle(img, (15, 25), (200,150), (255,0,255), 5)\n",
    "cv2.circle(img, (100,63), 55, (0,0,0), -1)\n",
    "\n",
    "pts = np.array([[10,5], [20,30], [70,20], [50,10]], np.int32)\n",
    "# pts = pts.reshape((-1,1,2))\n",
    "cv2.polylines(img, [pts], True, (0, 255, 255), 3)\n",
    "\n",
    "cv2.imshow('img', img)\n",
    "cv2.waitKey(0)\n",
    "cv2.destroyAllWindows()\n"
   ]
  },
  {
   "cell_type": "code",
   "execution_count": null,
   "metadata": {},
   "outputs": [],
   "source": [
    "img = cv2.imread('imgs/watch.jpg', cv2.IMREAD_COLOR)\n",
    "\n",
    "font = cv2.FONT_HERSHEY_SIMPLEX\n",
    "cv2.putText(img, 'OpenCV Tuts!', (0,130), font, 1, (0, 255, 255), 2, cv2.LINE_AA)\n",
    "\n",
    "cv2.imshow('img', img)\n",
    "cv2.waitKey(0)\n",
    "cv2.destroyAllWindows()\n"
   ]
  }
 ],
 "metadata": {
  "kernelspec": {
   "display_name": "Python 3.8.10 ('.env': venv)",
   "language": "python",
   "name": "python3"
  },
  "language_info": {
   "codemirror_mode": {
    "name": "ipython",
    "version": 3
   },
   "file_extension": ".py",
   "mimetype": "text/x-python",
   "name": "python",
   "nbconvert_exporter": "python",
   "pygments_lexer": "ipython3",
   "version": "3.8.10"
  },
  "orig_nbformat": 4,
  "vscode": {
   "interpreter": {
    "hash": "cdf3af95fc4b7213759152b5ac03ed82425d6c3bd04771114141c8d36f900228"
   }
  }
 },
 "nbformat": 4,
 "nbformat_minor": 2
}
